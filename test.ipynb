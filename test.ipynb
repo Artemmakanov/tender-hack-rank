{
 "cells": [
  {
   "cell_type": "code",
   "execution_count": 1,
   "metadata": {},
   "outputs": [],
   "source": [
    "import pandas as pd\n",
    "\n",
    "import warnings\n",
    "warnings.filterwarnings(\"ignore\")\n"
   ]
  },
  {
   "cell_type": "code",
   "execution_count": 2,
   "metadata": {},
   "outputs": [
    {
     "name": "stdout",
     "output_type": "stream",
     "text": [
      "(344034, 7)\n"
     ]
    },
    {
     "data": {
      "text/html": [
       "<div>\n",
       "<style scoped>\n",
       "    .dataframe tbody tr th:only-of-type {\n",
       "        vertical-align: middle;\n",
       "    }\n",
       "\n",
       "    .dataframe tbody tr th {\n",
       "        vertical-align: top;\n",
       "    }\n",
       "\n",
       "    .dataframe thead th {\n",
       "        text-align: right;\n",
       "    }\n",
       "</style>\n",
       "<table border=\"1\" class=\"dataframe\">\n",
       "  <thead>\n",
       "    <tr style=\"text-align: right;\">\n",
       "      <th></th>\n",
       "      <th>datetime</th>\n",
       "      <th>Position</th>\n",
       "      <th>Track Name</th>\n",
       "      <th>Artist</th>\n",
       "      <th>Streams</th>\n",
       "      <th>URL</th>\n",
       "      <th>Region</th>\n",
       "    </tr>\n",
       "  </thead>\n",
       "  <tbody>\n",
       "    <tr>\n",
       "      <th>0</th>\n",
       "      <td>2017-04-10</td>\n",
       "      <td>1</td>\n",
       "      <td>Shape of You</td>\n",
       "      <td>Ed Sheeran</td>\n",
       "      <td>4721</td>\n",
       "      <td>https://open.spotify.com/track/7qiZfU4dY1lWllz...</td>\n",
       "      <td>sk</td>\n",
       "    </tr>\n",
       "    <tr>\n",
       "      <th>1</th>\n",
       "      <td>2017-09-17</td>\n",
       "      <td>1</td>\n",
       "      <td>Mi Gente</td>\n",
       "      <td>J Balvin</td>\n",
       "      <td>202918</td>\n",
       "      <td>https://open.spotify.com/track/2rb5MvYT7ZIxbKW...</td>\n",
       "      <td>ar</td>\n",
       "    </tr>\n",
       "  </tbody>\n",
       "</table>\n",
       "</div>"
      ],
      "text/plain": [
       "    datetime  Position    Track Name      Artist  Streams  \\\n",
       "0 2017-04-10         1  Shape of You  Ed Sheeran     4721   \n",
       "1 2017-09-17         1      Mi Gente    J Balvin   202918   \n",
       "\n",
       "                                                 URL Region  \n",
       "0  https://open.spotify.com/track/7qiZfU4dY1lWllz...     sk  \n",
       "1  https://open.spotify.com/track/2rb5MvYT7ZIxbKW...     ar  "
      ]
     },
     "execution_count": 2,
     "metadata": {},
     "output_type": "execute_result"
    }
   ],
   "source": [
    "df_src = pd.read_csv('data_mini.csv', index_col=1, parse_dates={'datetime': ['Date']})\n",
    "df = df_src.copy()\n",
    "print(df.shape)\n",
    "df.head(2)"
   ]
  },
  {
   "cell_type": "code",
   "execution_count": 3,
   "metadata": {},
   "outputs": [
    {
     "data": {
      "text/plain": [
       "200"
      ]
     },
     "execution_count": 3,
     "metadata": {},
     "output_type": "execute_result"
    }
   ],
   "source": [
    "df.Position.max()"
   ]
  },
  {
   "cell_type": "markdown",
   "metadata": {},
   "source": [
    "## Признаки:\n",
    "- запрос-независимые - Track Name, Artist, Streams\n",
    "- запросовые - Date\n",
    "- запросо-зависимые - Национальность Artist соотв региону запроса, или Язык, \n",
    "на котором записан Title матчится с регионом запроса"
   ]
  },
  {
   "cell_type": "markdown",
   "metadata": {},
   "source": [
    "# Предобработка данных"
   ]
  },
  {
   "cell_type": "code",
   "execution_count": 4,
   "metadata": {},
   "outputs": [
    {
     "data": {
      "text/plain": [
       "datetime       0\n",
       "Position       0\n",
       "Track Name    67\n",
       "Artist        67\n",
       "Streams        0\n",
       "URL            1\n",
       "Region         0\n",
       "dtype: int64"
      ]
     },
     "execution_count": 4,
     "metadata": {},
     "output_type": "execute_result"
    }
   ],
   "source": [
    "df.isna().sum()"
   ]
  },
  {
   "cell_type": "code",
   "execution_count": 5,
   "metadata": {},
   "outputs": [
    {
     "data": {
      "text/plain": [
       "(343967, 7)"
      ]
     },
     "execution_count": 5,
     "metadata": {},
     "output_type": "execute_result"
    }
   ],
   "source": [
    "df = df.dropna()\n",
    "df.shape"
   ]
  },
  {
   "cell_type": "markdown",
   "metadata": {},
   "source": [
    "### Postion preprocessing\n",
    "`Делаем важное предположение: Позиция в чартах (Position) является мерой релеватности`"
   ]
  },
  {
   "cell_type": "code",
   "execution_count": 6,
   "metadata": {},
   "outputs": [],
   "source": [
    "from utils import bin"
   ]
  },
  {
   "cell_type": "markdown",
   "metadata": {},
   "source": [
    "<img src=\"bin.webp\" width=\"400\">\n"
   ]
  },
  {
   "cell_type": "code",
   "execution_count": 7,
   "metadata": {},
   "outputs": [
    {
     "data": {
      "text/html": [
       "<div>\n",
       "<style scoped>\n",
       "    .dataframe tbody tr th:only-of-type {\n",
       "        vertical-align: middle;\n",
       "    }\n",
       "\n",
       "    .dataframe tbody tr th {\n",
       "        vertical-align: top;\n",
       "    }\n",
       "\n",
       "    .dataframe thead th {\n",
       "        text-align: right;\n",
       "    }\n",
       "</style>\n",
       "<table border=\"1\" class=\"dataframe\">\n",
       "  <thead>\n",
       "    <tr style=\"text-align: right;\">\n",
       "      <th></th>\n",
       "      <th>datetime</th>\n",
       "      <th>Track Name</th>\n",
       "      <th>Artist</th>\n",
       "      <th>Streams</th>\n",
       "      <th>URL</th>\n",
       "      <th>Region</th>\n",
       "      <th>label</th>\n",
       "    </tr>\n",
       "  </thead>\n",
       "  <tbody>\n",
       "    <tr>\n",
       "      <th>0</th>\n",
       "      <td>2017-04-10</td>\n",
       "      <td>Shape of You</td>\n",
       "      <td>Ed Sheeran</td>\n",
       "      <td>4721</td>\n",
       "      <td>https://open.spotify.com/track/7qiZfU4dY1lWllz...</td>\n",
       "      <td>sk</td>\n",
       "      <td>10</td>\n",
       "    </tr>\n",
       "    <tr>\n",
       "      <th>1</th>\n",
       "      <td>2017-09-17</td>\n",
       "      <td>Mi Gente</td>\n",
       "      <td>J Balvin</td>\n",
       "      <td>202918</td>\n",
       "      <td>https://open.spotify.com/track/2rb5MvYT7ZIxbKW...</td>\n",
       "      <td>ar</td>\n",
       "      <td>10</td>\n",
       "    </tr>\n",
       "  </tbody>\n",
       "</table>\n",
       "</div>"
      ],
      "text/plain": [
       "    datetime    Track Name      Artist  Streams  \\\n",
       "0 2017-04-10  Shape of You  Ed Sheeran     4721   \n",
       "1 2017-09-17      Mi Gente    J Balvin   202918   \n",
       "\n",
       "                                                 URL Region  label  \n",
       "0  https://open.spotify.com/track/7qiZfU4dY1lWllz...     sk     10  \n",
       "1  https://open.spotify.com/track/2rb5MvYT7ZIxbKW...     ar     10  "
      ]
     },
     "execution_count": 7,
     "metadata": {},
     "output_type": "execute_result"
    }
   ],
   "source": [
    "df['label'] = df.Position.apply(bin)\n",
    "df = df.drop('Position', axis=1)\n",
    "df.head(2)"
   ]
  },
  {
   "cell_type": "markdown",
   "metadata": {},
   "source": [
    "### Track Name preprocessing\n"
   ]
  },
  {
   "cell_type": "code",
   "execution_count": 8,
   "metadata": {},
   "outputs": [],
   "source": [
    "from category_encoders.hashing import HashingEncoder\n",
    "\n"
   ]
  },
  {
   "cell_type": "code",
   "execution_count": 9,
   "metadata": {},
   "outputs": [],
   "source": [
    "y = df.label\n",
    "\n",
    "he = HashingEncoder(cols=['Track Name'], verbose=1).fit(df, y)\n",
    "\n",
    "df = he.transform(df)"
   ]
  },
  {
   "cell_type": "code",
   "execution_count": 10,
   "metadata": {},
   "outputs": [
    {
     "data": {
      "text/html": [
       "<div>\n",
       "<style scoped>\n",
       "    .dataframe tbody tr th:only-of-type {\n",
       "        vertical-align: middle;\n",
       "    }\n",
       "\n",
       "    .dataframe tbody tr th {\n",
       "        vertical-align: top;\n",
       "    }\n",
       "\n",
       "    .dataframe thead th {\n",
       "        text-align: right;\n",
       "    }\n",
       "</style>\n",
       "<table border=\"1\" class=\"dataframe\">\n",
       "  <thead>\n",
       "    <tr style=\"text-align: right;\">\n",
       "      <th></th>\n",
       "      <th>col_0</th>\n",
       "      <th>col_1</th>\n",
       "      <th>col_2</th>\n",
       "      <th>col_3</th>\n",
       "      <th>col_4</th>\n",
       "      <th>col_5</th>\n",
       "      <th>col_6</th>\n",
       "      <th>col_7</th>\n",
       "      <th>datetime</th>\n",
       "      <th>Artist</th>\n",
       "      <th>Streams</th>\n",
       "      <th>URL</th>\n",
       "      <th>Region</th>\n",
       "      <th>label</th>\n",
       "    </tr>\n",
       "  </thead>\n",
       "  <tbody>\n",
       "    <tr>\n",
       "      <th>0</th>\n",
       "      <td>1</td>\n",
       "      <td>0</td>\n",
       "      <td>0</td>\n",
       "      <td>0</td>\n",
       "      <td>0</td>\n",
       "      <td>0</td>\n",
       "      <td>0</td>\n",
       "      <td>0</td>\n",
       "      <td>2017-04-10</td>\n",
       "      <td>Ed Sheeran</td>\n",
       "      <td>4721</td>\n",
       "      <td>https://open.spotify.com/track/7qiZfU4dY1lWllz...</td>\n",
       "      <td>sk</td>\n",
       "      <td>10</td>\n",
       "    </tr>\n",
       "    <tr>\n",
       "      <th>1</th>\n",
       "      <td>0</td>\n",
       "      <td>0</td>\n",
       "      <td>0</td>\n",
       "      <td>1</td>\n",
       "      <td>0</td>\n",
       "      <td>0</td>\n",
       "      <td>0</td>\n",
       "      <td>0</td>\n",
       "      <td>2017-09-17</td>\n",
       "      <td>J Balvin</td>\n",
       "      <td>202918</td>\n",
       "      <td>https://open.spotify.com/track/2rb5MvYT7ZIxbKW...</td>\n",
       "      <td>ar</td>\n",
       "      <td>10</td>\n",
       "    </tr>\n",
       "  </tbody>\n",
       "</table>\n",
       "</div>"
      ],
      "text/plain": [
       "   col_0  col_1  col_2  col_3  col_4  col_5  col_6  col_7   datetime  \\\n",
       "0      1      0      0      0      0      0      0      0 2017-04-10   \n",
       "1      0      0      0      1      0      0      0      0 2017-09-17   \n",
       "\n",
       "       Artist  Streams                                                URL  \\\n",
       "0  Ed Sheeran     4721  https://open.spotify.com/track/7qiZfU4dY1lWllz...   \n",
       "1    J Balvin   202918  https://open.spotify.com/track/2rb5MvYT7ZIxbKW...   \n",
       "\n",
       "  Region  label  \n",
       "0     sk     10  \n",
       "1     ar     10  "
      ]
     },
     "execution_count": 10,
     "metadata": {},
     "output_type": "execute_result"
    }
   ],
   "source": [
    "df.head(2)"
   ]
  },
  {
   "cell_type": "markdown",
   "metadata": {},
   "source": [
    "### Artist - имя исполнителя или группы\n",
    "`Leave One Out technique` - заменяем категориальный признак средним значением целевой (label)\n",
    "переменной, соотв. данныму конкрентому значению категориального признака"
   ]
  },
  {
   "cell_type": "markdown",
   "metadata": {},
   "source": [
    "<img src=\"loo.webp\" width=\"400\">\n"
   ]
  },
  {
   "cell_type": "code",
   "execution_count": 11,
   "metadata": {},
   "outputs": [],
   "source": [
    "from category_encoders.leave_one_out import LeaveOneOutEncoder\n"
   ]
  },
  {
   "cell_type": "code",
   "execution_count": 12,
   "metadata": {},
   "outputs": [],
   "source": [
    "y = df.label\n",
    "\n",
    "loo = LeaveOneOutEncoder(cols=['Artist'], verbose=1).fit(df, y)\n",
    "\n",
    "df = loo.transform(df)"
   ]
  },
  {
   "cell_type": "markdown",
   "metadata": {},
   "source": [
    "### URL \n",
    "Здесь важно знать внутрянку - по факту Url соотв. уникальной паре песня-исполниель, информация о которых уже представлена в полях Track Name и Artist "
   ]
  },
  {
   "cell_type": "code",
   "execution_count": 13,
   "metadata": {},
   "outputs": [],
   "source": [
    "df = df.drop('URL', axis=1)"
   ]
  },
  {
   "cell_type": "markdown",
   "metadata": {},
   "source": [
    "### Date\n",
    "Логично разбить дату на дни, месяцы и годы. Например для учета сезонности"
   ]
  },
  {
   "cell_type": "code",
   "execution_count": 14,
   "metadata": {},
   "outputs": [
    {
     "data": {
      "text/html": [
       "<div>\n",
       "<style scoped>\n",
       "    .dataframe tbody tr th:only-of-type {\n",
       "        vertical-align: middle;\n",
       "    }\n",
       "\n",
       "    .dataframe tbody tr th {\n",
       "        vertical-align: top;\n",
       "    }\n",
       "\n",
       "    .dataframe thead th {\n",
       "        text-align: right;\n",
       "    }\n",
       "</style>\n",
       "<table border=\"1\" class=\"dataframe\">\n",
       "  <thead>\n",
       "    <tr style=\"text-align: right;\">\n",
       "      <th></th>\n",
       "      <th>col_0</th>\n",
       "      <th>col_1</th>\n",
       "      <th>col_2</th>\n",
       "      <th>col_3</th>\n",
       "      <th>col_4</th>\n",
       "      <th>col_5</th>\n",
       "      <th>col_6</th>\n",
       "      <th>col_7</th>\n",
       "      <th>datetime</th>\n",
       "      <th>Artist</th>\n",
       "      <th>Streams</th>\n",
       "      <th>Region</th>\n",
       "      <th>label</th>\n",
       "    </tr>\n",
       "  </thead>\n",
       "  <tbody>\n",
       "    <tr>\n",
       "      <th>0</th>\n",
       "      <td>1</td>\n",
       "      <td>0</td>\n",
       "      <td>0</td>\n",
       "      <td>0</td>\n",
       "      <td>0</td>\n",
       "      <td>0</td>\n",
       "      <td>0</td>\n",
       "      <td>0</td>\n",
       "      <td>2017-04-10</td>\n",
       "      <td>2.470445</td>\n",
       "      <td>4721</td>\n",
       "      <td>sk</td>\n",
       "      <td>10</td>\n",
       "    </tr>\n",
       "    <tr>\n",
       "      <th>1</th>\n",
       "      <td>0</td>\n",
       "      <td>0</td>\n",
       "      <td>0</td>\n",
       "      <td>1</td>\n",
       "      <td>0</td>\n",
       "      <td>0</td>\n",
       "      <td>0</td>\n",
       "      <td>0</td>\n",
       "      <td>2017-09-17</td>\n",
       "      <td>3.509150</td>\n",
       "      <td>202918</td>\n",
       "      <td>ar</td>\n",
       "      <td>10</td>\n",
       "    </tr>\n",
       "  </tbody>\n",
       "</table>\n",
       "</div>"
      ],
      "text/plain": [
       "   col_0  col_1  col_2  col_3  col_4  col_5  col_6  col_7   datetime  \\\n",
       "0      1      0      0      0      0      0      0      0 2017-04-10   \n",
       "1      0      0      0      1      0      0      0      0 2017-09-17   \n",
       "\n",
       "     Artist  Streams Region  label  \n",
       "0  2.470445     4721     sk     10  \n",
       "1  3.509150   202918     ar     10  "
      ]
     },
     "execution_count": 14,
     "metadata": {},
     "output_type": "execute_result"
    }
   ],
   "source": [
    "df.head(2)"
   ]
  },
  {
   "cell_type": "code",
   "execution_count": 15,
   "metadata": {},
   "outputs": [
    {
     "data": {
      "text/html": [
       "<div>\n",
       "<style scoped>\n",
       "    .dataframe tbody tr th:only-of-type {\n",
       "        vertical-align: middle;\n",
       "    }\n",
       "\n",
       "    .dataframe tbody tr th {\n",
       "        vertical-align: top;\n",
       "    }\n",
       "\n",
       "    .dataframe thead th {\n",
       "        text-align: right;\n",
       "    }\n",
       "</style>\n",
       "<table border=\"1\" class=\"dataframe\">\n",
       "  <thead>\n",
       "    <tr style=\"text-align: right;\">\n",
       "      <th></th>\n",
       "      <th>col_0</th>\n",
       "      <th>col_1</th>\n",
       "      <th>col_2</th>\n",
       "      <th>col_3</th>\n",
       "      <th>col_4</th>\n",
       "      <th>col_5</th>\n",
       "      <th>col_6</th>\n",
       "      <th>col_7</th>\n",
       "      <th>Artist</th>\n",
       "      <th>Streams</th>\n",
       "      <th>Region</th>\n",
       "      <th>label</th>\n",
       "      <th>year</th>\n",
       "      <th>month</th>\n",
       "      <th>day</th>\n",
       "    </tr>\n",
       "  </thead>\n",
       "  <tbody>\n",
       "    <tr>\n",
       "      <th>0</th>\n",
       "      <td>1</td>\n",
       "      <td>0</td>\n",
       "      <td>0</td>\n",
       "      <td>0</td>\n",
       "      <td>0</td>\n",
       "      <td>0</td>\n",
       "      <td>0</td>\n",
       "      <td>0</td>\n",
       "      <td>2.470445</td>\n",
       "      <td>4721</td>\n",
       "      <td>sk</td>\n",
       "      <td>10</td>\n",
       "      <td>2017</td>\n",
       "      <td>4</td>\n",
       "      <td>10</td>\n",
       "    </tr>\n",
       "    <tr>\n",
       "      <th>1</th>\n",
       "      <td>0</td>\n",
       "      <td>0</td>\n",
       "      <td>0</td>\n",
       "      <td>1</td>\n",
       "      <td>0</td>\n",
       "      <td>0</td>\n",
       "      <td>0</td>\n",
       "      <td>0</td>\n",
       "      <td>3.509150</td>\n",
       "      <td>202918</td>\n",
       "      <td>ar</td>\n",
       "      <td>10</td>\n",
       "      <td>2017</td>\n",
       "      <td>9</td>\n",
       "      <td>17</td>\n",
       "    </tr>\n",
       "  </tbody>\n",
       "</table>\n",
       "</div>"
      ],
      "text/plain": [
       "   col_0  col_1  col_2  col_3  col_4  col_5  col_6  col_7    Artist  Streams  \\\n",
       "0      1      0      0      0      0      0      0      0  2.470445     4721   \n",
       "1      0      0      0      1      0      0      0      0  3.509150   202918   \n",
       "\n",
       "  Region  label  year  month  day  \n",
       "0     sk     10  2017      4   10  \n",
       "1     ar     10  2017      9   17  "
      ]
     },
     "execution_count": 15,
     "metadata": {},
     "output_type": "execute_result"
    }
   ],
   "source": [
    "df['year'] = df.datetime.dt.year\n",
    "df['month'] = df.datetime.dt.month\n",
    "df['day'] = df.datetime.dt.day\n",
    "df = df.drop('datetime', axis=1)\n",
    "df.head(2)"
   ]
  },
  {
   "cell_type": "markdown",
   "metadata": {},
   "source": [
    "### Region\n",
    "Очень важный момент, какой признак мы будем считать как query - запрос.\n",
    "В случае данных, которые предоставил Spotify таким признаком является регион пользователя.\n",
    "Логично сделать такой признак запросом"
   ]
  },
  {
   "cell_type": "code",
   "execution_count": 16,
   "metadata": {},
   "outputs": [],
   "source": [
    "queries, queries_unique = pd.factorize(df.Region)\n",
    "df['queries'] = queries\n",
    "df = df.drop(['Region'], axis=1)"
   ]
  },
  {
   "cell_type": "code",
   "execution_count": 17,
   "metadata": {},
   "outputs": [
    {
     "data": {
      "text/html": [
       "<div>\n",
       "<style scoped>\n",
       "    .dataframe tbody tr th:only-of-type {\n",
       "        vertical-align: middle;\n",
       "    }\n",
       "\n",
       "    .dataframe tbody tr th {\n",
       "        vertical-align: top;\n",
       "    }\n",
       "\n",
       "    .dataframe thead th {\n",
       "        text-align: right;\n",
       "    }\n",
       "</style>\n",
       "<table border=\"1\" class=\"dataframe\">\n",
       "  <thead>\n",
       "    <tr style=\"text-align: right;\">\n",
       "      <th></th>\n",
       "      <th>col_0</th>\n",
       "      <th>col_1</th>\n",
       "      <th>col_2</th>\n",
       "      <th>col_3</th>\n",
       "      <th>col_4</th>\n",
       "      <th>col_5</th>\n",
       "      <th>col_6</th>\n",
       "      <th>col_7</th>\n",
       "      <th>Artist</th>\n",
       "      <th>Streams</th>\n",
       "      <th>label</th>\n",
       "      <th>year</th>\n",
       "      <th>month</th>\n",
       "      <th>day</th>\n",
       "      <th>queries</th>\n",
       "    </tr>\n",
       "  </thead>\n",
       "  <tbody>\n",
       "    <tr>\n",
       "      <th>0</th>\n",
       "      <td>1</td>\n",
       "      <td>0</td>\n",
       "      <td>0</td>\n",
       "      <td>0</td>\n",
       "      <td>0</td>\n",
       "      <td>0</td>\n",
       "      <td>0</td>\n",
       "      <td>0</td>\n",
       "      <td>2.470445</td>\n",
       "      <td>4721</td>\n",
       "      <td>10</td>\n",
       "      <td>2017</td>\n",
       "      <td>4</td>\n",
       "      <td>10</td>\n",
       "      <td>0</td>\n",
       "    </tr>\n",
       "    <tr>\n",
       "      <th>1</th>\n",
       "      <td>0</td>\n",
       "      <td>0</td>\n",
       "      <td>0</td>\n",
       "      <td>1</td>\n",
       "      <td>0</td>\n",
       "      <td>0</td>\n",
       "      <td>0</td>\n",
       "      <td>0</td>\n",
       "      <td>3.509150</td>\n",
       "      <td>202918</td>\n",
       "      <td>10</td>\n",
       "      <td>2017</td>\n",
       "      <td>9</td>\n",
       "      <td>17</td>\n",
       "      <td>1</td>\n",
       "    </tr>\n",
       "  </tbody>\n",
       "</table>\n",
       "</div>"
      ],
      "text/plain": [
       "   col_0  col_1  col_2  col_3  col_4  col_5  col_6  col_7    Artist  Streams  \\\n",
       "0      1      0      0      0      0      0      0      0  2.470445     4721   \n",
       "1      0      0      0      1      0      0      0      0  3.509150   202918   \n",
       "\n",
       "   label  year  month  day  queries  \n",
       "0     10  2017      4   10        0  \n",
       "1     10  2017      9   17        1  "
      ]
     },
     "execution_count": 17,
     "metadata": {},
     "output_type": "execute_result"
    }
   ],
   "source": [
    "df.head(2)"
   ]
  },
  {
   "cell_type": "markdown",
   "metadata": {},
   "source": [
    "## Тренировка модели"
   ]
  },
  {
   "cell_type": "code",
   "execution_count": 18,
   "metadata": {},
   "outputs": [],
   "source": [
    "from utils import split_train_test\n",
    "\n",
    "import xgboost\n"
   ]
  },
  {
   "cell_type": "code",
   "execution_count": 19,
   "metadata": {},
   "outputs": [
    {
     "name": "stderr",
     "output_type": "stream",
     "text": [
      "100%|██████████| 589/589 [00:10<00:00, 58.69it/s]"
     ]
    },
    {
     "name": "stdout",
     "output_type": "stream",
     "text": [
      "(274943, 15)\n",
      "(69024, 15)\n"
     ]
    },
    {
     "name": "stderr",
     "output_type": "stream",
     "text": [
      "\n"
     ]
    }
   ],
   "source": [
    "train, test = split_train_test(df, p=0.8)\n",
    "print(train.shape)\n",
    "print(test.shape)"
   ]
  },
  {
   "cell_type": "code",
   "execution_count": 20,
   "metadata": {},
   "outputs": [],
   "source": [
    "X_train = train[train.columns.difference(['queries','label'])]\n",
    "train_query_groups = train.queries.value_counts(sort=False)\n",
    "y_train = train.label\n",
    "\n",
    "X_test = test[train.columns.difference(['queries','label'])]\n",
    "test_query_groups = test.queries.value_counts(sort=False)\n",
    "y_test = test.label"
   ]
  },
  {
   "cell_type": "code",
   "execution_count": 21,
   "metadata": {},
   "outputs": [],
   "source": [
    "training_xgb_matrix = xgboost.DMatrix(X_train, label=y_train)\n",
    "training_xgb_matrix.set_group(train_query_groups)\n",
    "test_xgb_matrix = xgboost.DMatrix(X_test, label=y_test)\n",
    "test_xgb_matrix.set_group(test_query_groups)\n"
   ]
  },
  {
   "cell_type": "code",
   "execution_count": 79,
   "metadata": {},
   "outputs": [
    {
     "name": "stdout",
     "output_type": "stream",
     "text": [
      "[0]\ttrain-ndcg@10:0.89254\ttrain-map@10:0.29851\ttrain-pre@10:0.68519\teval-ndcg@10:0.89722\teval-map@10:0.30468\teval-pre@10:0.68519\n",
      "[1]\ttrain-ndcg@10:0.89254\ttrain-map@10:0.29851\ttrain-pre@10:0.68519\teval-ndcg@10:0.89722\teval-map@10:0.30468\teval-pre@10:0.68519\n"
     ]
    }
   ],
   "source": [
    "eval_metrics = ['ndcg@10', 'map@10', 'pre@10']\n",
    "\n",
    "params = {'objective': 'rank:ndcg', 'eval_metric': eval_metrics, 'verbosity': 0}\n",
    "watch_list = [(training_xgb_matrix, 'train'), (test_xgb_matrix, 'eval')]\n",
    "\n",
    "xgb_model = xgboost.train(params, training_xgb_matrix, num_boost_round=100, evals=watch_list)\n",
    "predictions = xgb_model.predict(test_xgb_matrix)"
   ]
  },
  {
   "cell_type": "code",
   "execution_count": 23,
   "metadata": {},
   "outputs": [],
   "source": [
    "test['label_predicted'] = predictions"
   ]
  },
  {
   "cell_type": "code",
   "execution_count": 74,
   "metadata": {},
   "outputs": [
    {
     "data": {
      "text/html": [
       "<div>\n",
       "<style scoped>\n",
       "    .dataframe tbody tr th:only-of-type {\n",
       "        vertical-align: middle;\n",
       "    }\n",
       "\n",
       "    .dataframe tbody tr th {\n",
       "        vertical-align: top;\n",
       "    }\n",
       "\n",
       "    .dataframe thead th {\n",
       "        text-align: right;\n",
       "    }\n",
       "</style>\n",
       "<table border=\"1\" class=\"dataframe\">\n",
       "  <thead>\n",
       "    <tr style=\"text-align: right;\">\n",
       "      <th></th>\n",
       "      <th>datetime</th>\n",
       "      <th>Track Name</th>\n",
       "      <th>URL</th>\n",
       "      <th>Region</th>\n",
       "      <th>label_predicted</th>\n",
       "      <th>label</th>\n",
       "      <th>Position</th>\n",
       "    </tr>\n",
       "  </thead>\n",
       "  <tbody>\n",
       "    <tr>\n",
       "      <th>1932</th>\n",
       "      <td>2017-08-24</td>\n",
       "      <td>More Than You Know</td>\n",
       "      <td>https://open.spotify.com/track/3PEgB3fkiojxms3...</td>\n",
       "      <td>cz</td>\n",
       "      <td>0.519738</td>\n",
       "      <td>10</td>\n",
       "      <td>1</td>\n",
       "    </tr>\n",
       "    <tr>\n",
       "      <th>94457</th>\n",
       "      <td>2017-10-06</td>\n",
       "      <td>It Ain't Me (with Selena Gomez)</td>\n",
       "      <td>https://open.spotify.com/track/3eR23VReFzcdmS7...</td>\n",
       "      <td>cz</td>\n",
       "      <td>0.519738</td>\n",
       "      <td>3</td>\n",
       "      <td>49</td>\n",
       "    </tr>\n",
       "    <tr>\n",
       "      <th>72767</th>\n",
       "      <td>2017-11-19</td>\n",
       "      <td>Man's Not Hot</td>\n",
       "      <td>https://open.spotify.com/track/2nUJvBO87SkxCVi...</td>\n",
       "      <td>cz</td>\n",
       "      <td>0.519738</td>\n",
       "      <td>3</td>\n",
       "      <td>38</td>\n",
       "    </tr>\n",
       "    <tr>\n",
       "      <th>94803</th>\n",
       "      <td>2017-02-11</td>\n",
       "      <td>Chantaje</td>\n",
       "      <td>https://open.spotify.com/track/6mICuAdrwEjh6Y6...</td>\n",
       "      <td>cz</td>\n",
       "      <td>0.519738</td>\n",
       "      <td>3</td>\n",
       "      <td>49</td>\n",
       "    </tr>\n",
       "    <tr>\n",
       "      <th>91418</th>\n",
       "      <td>2017-09-30</td>\n",
       "      <td>Despacito - Remix</td>\n",
       "      <td>https://open.spotify.com/track/5CtI0qwDJkDQGwX...</td>\n",
       "      <td>cz</td>\n",
       "      <td>0.519738</td>\n",
       "      <td>3</td>\n",
       "      <td>47</td>\n",
       "    </tr>\n",
       "    <tr>\n",
       "      <th>...</th>\n",
       "      <td>...</td>\n",
       "      <td>...</td>\n",
       "      <td>...</td>\n",
       "      <td>...</td>\n",
       "      <td>...</td>\n",
       "      <td>...</td>\n",
       "      <td>...</td>\n",
       "    </tr>\n",
       "    <tr>\n",
       "      <th>294703</th>\n",
       "      <td>2017-03-10</td>\n",
       "      <td>Numb</td>\n",
       "      <td>https://open.spotify.com/track/2nLtzopw4rPResz...</td>\n",
       "      <td>cz</td>\n",
       "      <td>0.479730</td>\n",
       "      <td>0</td>\n",
       "      <td>167</td>\n",
       "    </tr>\n",
       "    <tr>\n",
       "      <th>299428</th>\n",
       "      <td>2017-05-26</td>\n",
       "      <td>Ciao Adios</td>\n",
       "      <td>https://open.spotify.com/track/3EfugazgSddQvzZ...</td>\n",
       "      <td>cz</td>\n",
       "      <td>0.479730</td>\n",
       "      <td>0</td>\n",
       "      <td>170</td>\n",
       "    </tr>\n",
       "    <tr>\n",
       "      <th>260869</th>\n",
       "      <td>2017-04-23</td>\n",
       "      <td>By Your Side</td>\n",
       "      <td>https://open.spotify.com/track/1D3ODoXHBLpdxol...</td>\n",
       "      <td>cz</td>\n",
       "      <td>0.479730</td>\n",
       "      <td>0</td>\n",
       "      <td>145</td>\n",
       "    </tr>\n",
       "    <tr>\n",
       "      <th>240558</th>\n",
       "      <td>2017-06-14</td>\n",
       "      <td>History</td>\n",
       "      <td>https://open.spotify.com/track/0WCEaydwN65cvwa...</td>\n",
       "      <td>cz</td>\n",
       "      <td>0.479730</td>\n",
       "      <td>0</td>\n",
       "      <td>132</td>\n",
       "    </tr>\n",
       "    <tr>\n",
       "      <th>218989</th>\n",
       "      <td>2017-11-24</td>\n",
       "      <td>Scared to Be Lonely</td>\n",
       "      <td>https://open.spotify.com/track/3ebXMykcMXOcLeJ...</td>\n",
       "      <td>cz</td>\n",
       "      <td>0.479730</td>\n",
       "      <td>1</td>\n",
       "      <td>119</td>\n",
       "    </tr>\n",
       "  </tbody>\n",
       "</table>\n",
       "<p>1447 rows × 7 columns</p>\n",
       "</div>"
      ],
      "text/plain": [
       "         datetime                       Track Name  \\\n",
       "1932   2017-08-24               More Than You Know   \n",
       "94457  2017-10-06  It Ain't Me (with Selena Gomez)   \n",
       "72767  2017-11-19                    Man's Not Hot   \n",
       "94803  2017-02-11                         Chantaje   \n",
       "91418  2017-09-30                Despacito - Remix   \n",
       "...           ...                              ...   \n",
       "294703 2017-03-10                             Numb   \n",
       "299428 2017-05-26                       Ciao Adios   \n",
       "260869 2017-04-23                     By Your Side   \n",
       "240558 2017-06-14                          History   \n",
       "218989 2017-11-24              Scared to Be Lonely   \n",
       "\n",
       "                                                      URL Region  \\\n",
       "1932    https://open.spotify.com/track/3PEgB3fkiojxms3...     cz   \n",
       "94457   https://open.spotify.com/track/3eR23VReFzcdmS7...     cz   \n",
       "72767   https://open.spotify.com/track/2nUJvBO87SkxCVi...     cz   \n",
       "94803   https://open.spotify.com/track/6mICuAdrwEjh6Y6...     cz   \n",
       "91418   https://open.spotify.com/track/5CtI0qwDJkDQGwX...     cz   \n",
       "...                                                   ...    ...   \n",
       "294703  https://open.spotify.com/track/2nLtzopw4rPResz...     cz   \n",
       "299428  https://open.spotify.com/track/3EfugazgSddQvzZ...     cz   \n",
       "260869  https://open.spotify.com/track/1D3ODoXHBLpdxol...     cz   \n",
       "240558  https://open.spotify.com/track/0WCEaydwN65cvwa...     cz   \n",
       "218989  https://open.spotify.com/track/3ebXMykcMXOcLeJ...     cz   \n",
       "\n",
       "        label_predicted  label  Position  \n",
       "1932           0.519738     10         1  \n",
       "94457          0.519738      3        49  \n",
       "72767          0.519738      3        38  \n",
       "94803          0.519738      3        49  \n",
       "91418          0.519738      3        47  \n",
       "...                 ...    ...       ...  \n",
       "294703         0.479730      0       167  \n",
       "299428         0.479730      0       170  \n",
       "260869         0.479730      0       145  \n",
       "240558         0.479730      0       132  \n",
       "218989         0.479730      1       119  \n",
       "\n",
       "[1447 rows x 7 columns]"
      ]
     },
     "execution_count": 74,
     "metadata": {},
     "output_type": "execute_result"
    }
   ],
   "source": [
    "query = 20\n",
    "cols = [\n",
    "    'datetime', 'Track Name',\n",
    "    'URL', 'Region', 'label_predicted',\n",
    "    'label', 'Position'\n",
    "]\n",
    "df_src.loc[test[test.queries == query].index, :] \\\n",
    "    .merge(test[test.queries == query], left_index=True, right_index=True)[cols] \\\n",
    "    .sort_values('label_predicted', ascending=False)"
   ]
  }
 ],
 "metadata": {
  "kernelspec": {
   "display_name": "Python 3.11.5 ('tender')",
   "language": "python",
   "name": "python3"
  },
  "language_info": {
   "codemirror_mode": {
    "name": "ipython",
    "version": 3
   },
   "file_extension": ".py",
   "mimetype": "text/x-python",
   "name": "python",
   "nbconvert_exporter": "python",
   "pygments_lexer": "ipython3",
   "version": "3.11.5"
  },
  "orig_nbformat": 4,
  "vscode": {
   "interpreter": {
    "hash": "f12a8d6d23bdbb9ce8539ec353a78fa5216937e3cb0a2964ba37ac80ec9e91f9"
   }
  }
 },
 "nbformat": 4,
 "nbformat_minor": 2
}
